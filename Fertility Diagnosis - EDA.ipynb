{
 "cells": [
  {
   "cell_type": "markdown",
   "metadata": {},
   "source": [
    "# Fertility Diagnosis - EDA"
   ]
  },
  {
   "cell_type": "code",
   "execution_count": 2,
   "metadata": {},
   "outputs": [],
   "source": [
    "import numpy as np\n",
    "import pandas as pd\n",
    "import matplotlib.pyplot as plt\n",
    "import seaborn as sns\n",
    "%matplotlib inline\n",
    "from collections import Counter"
   ]
  },
  {
   "cell_type": "code",
   "execution_count": 3,
   "metadata": {},
   "outputs": [],
   "source": [
    "data=pd.read_csv('fertility_Diagnosis_data.txt')"
   ]
  },
  {
   "cell_type": "code",
   "execution_count": 4,
   "metadata": {},
   "outputs": [
    {
     "data": {
      "text/html": [
       "<div>\n",
       "<style scoped>\n",
       "    .dataframe tbody tr th:only-of-type {\n",
       "        vertical-align: middle;\n",
       "    }\n",
       "\n",
       "    .dataframe tbody tr th {\n",
       "        vertical-align: top;\n",
       "    }\n",
       "\n",
       "    .dataframe thead th {\n",
       "        text-align: right;\n",
       "    }\n",
       "</style>\n",
       "<table border=\"1\" class=\"dataframe\">\n",
       "  <thead>\n",
       "    <tr style=\"text-align: right;\">\n",
       "      <th></th>\n",
       "      <th>-0.33</th>\n",
       "      <th>0.69</th>\n",
       "      <th>0</th>\n",
       "      <th>1</th>\n",
       "      <th>1.1</th>\n",
       "      <th>0.1</th>\n",
       "      <th>0.8</th>\n",
       "      <th>0.2</th>\n",
       "      <th>0.88</th>\n",
       "      <th>N</th>\n",
       "    </tr>\n",
       "  </thead>\n",
       "  <tbody>\n",
       "    <tr>\n",
       "      <th>0</th>\n",
       "      <td>-0.33</td>\n",
       "      <td>0.94</td>\n",
       "      <td>1</td>\n",
       "      <td>0</td>\n",
       "      <td>1</td>\n",
       "      <td>0</td>\n",
       "      <td>0.8</td>\n",
       "      <td>1</td>\n",
       "      <td>0.31</td>\n",
       "      <td>O</td>\n",
       "    </tr>\n",
       "    <tr>\n",
       "      <th>1</th>\n",
       "      <td>-0.33</td>\n",
       "      <td>0.50</td>\n",
       "      <td>1</td>\n",
       "      <td>0</td>\n",
       "      <td>0</td>\n",
       "      <td>0</td>\n",
       "      <td>1.0</td>\n",
       "      <td>-1</td>\n",
       "      <td>0.50</td>\n",
       "      <td>N</td>\n",
       "    </tr>\n",
       "    <tr>\n",
       "      <th>2</th>\n",
       "      <td>-0.33</td>\n",
       "      <td>0.75</td>\n",
       "      <td>0</td>\n",
       "      <td>1</td>\n",
       "      <td>1</td>\n",
       "      <td>0</td>\n",
       "      <td>1.0</td>\n",
       "      <td>-1</td>\n",
       "      <td>0.38</td>\n",
       "      <td>N</td>\n",
       "    </tr>\n",
       "    <tr>\n",
       "      <th>3</th>\n",
       "      <td>-0.33</td>\n",
       "      <td>0.67</td>\n",
       "      <td>1</td>\n",
       "      <td>1</td>\n",
       "      <td>0</td>\n",
       "      <td>0</td>\n",
       "      <td>0.8</td>\n",
       "      <td>-1</td>\n",
       "      <td>0.50</td>\n",
       "      <td>O</td>\n",
       "    </tr>\n",
       "    <tr>\n",
       "      <th>4</th>\n",
       "      <td>-0.33</td>\n",
       "      <td>0.67</td>\n",
       "      <td>1</td>\n",
       "      <td>0</td>\n",
       "      <td>1</td>\n",
       "      <td>0</td>\n",
       "      <td>0.8</td>\n",
       "      <td>0</td>\n",
       "      <td>0.50</td>\n",
       "      <td>N</td>\n",
       "    </tr>\n",
       "  </tbody>\n",
       "</table>\n",
       "</div>"
      ],
      "text/plain": [
       "   -0.33  0.69  0  1  1.1  0.1  0.8  0.2  0.88  N\n",
       "0  -0.33  0.94  1  0    1    0  0.8    1  0.31  O\n",
       "1  -0.33  0.50  1  0    0    0  1.0   -1  0.50  N\n",
       "2  -0.33  0.75  0  1    1    0  1.0   -1  0.38  N\n",
       "3  -0.33  0.67  1  1    0    0  0.8   -1  0.50  O\n",
       "4  -0.33  0.67  1  0    1    0  0.8    0  0.50  N"
      ]
     },
     "execution_count": 4,
     "metadata": {},
     "output_type": "execute_result"
    }
   ],
   "source": [
    "data.head()"
   ]
  },
  {
   "cell_type": "code",
   "execution_count": 5,
   "metadata": {},
   "outputs": [],
   "source": [
    "data.columns=['Seasons','Age','Childish_Disease','Accident','Surgery','High_Fever','Alcohol_consumption','Smoking','Sitting_Hours','Diagnosis']"
   ]
  },
  {
   "cell_type": "code",
   "execution_count": 6,
   "metadata": {},
   "outputs": [
    {
     "data": {
      "text/plain": [
       "Counter({-0.33: 36, 1.0: 31, -1.0: 28, 0.33: 4})"
      ]
     },
     "execution_count": 6,
     "metadata": {},
     "output_type": "execute_result"
    }
   ],
   "source": [
    "Counter(data.Seasons)"
   ]
  },
  {
   "cell_type": "code",
   "execution_count": 7,
   "metadata": {},
   "outputs": [
    {
     "data": {
      "text/html": [
       "<div>\n",
       "<style scoped>\n",
       "    .dataframe tbody tr th:only-of-type {\n",
       "        vertical-align: middle;\n",
       "    }\n",
       "\n",
       "    .dataframe tbody tr th {\n",
       "        vertical-align: top;\n",
       "    }\n",
       "\n",
       "    .dataframe thead th {\n",
       "        text-align: right;\n",
       "    }\n",
       "</style>\n",
       "<table border=\"1\" class=\"dataframe\">\n",
       "  <thead>\n",
       "    <tr style=\"text-align: right;\">\n",
       "      <th></th>\n",
       "      <th>Seasons</th>\n",
       "      <th>Age</th>\n",
       "      <th>Childish_Disease</th>\n",
       "      <th>Accident</th>\n",
       "      <th>Surgery</th>\n",
       "      <th>High_Fever</th>\n",
       "      <th>Alcohol_consumption</th>\n",
       "      <th>Smoking</th>\n",
       "      <th>Sitting_Hours</th>\n",
       "    </tr>\n",
       "  </thead>\n",
       "  <tbody>\n",
       "    <tr>\n",
       "      <th>Seasons</th>\n",
       "      <td>1.000000</td>\n",
       "      <td>0.066010</td>\n",
       "      <td>-0.191464</td>\n",
       "      <td>-0.093313</td>\n",
       "      <td>-0.003091</td>\n",
       "      <td>-0.223105</td>\n",
       "      <td>-0.041934</td>\n",
       "      <td>-0.026732</td>\n",
       "      <td>-0.011239</td>\n",
       "    </tr>\n",
       "    <tr>\n",
       "      <th>Age</th>\n",
       "      <td>0.066010</td>\n",
       "      <td>1.000000</td>\n",
       "      <td>0.088141</td>\n",
       "      <td>0.215397</td>\n",
       "      <td>0.271585</td>\n",
       "      <td>0.120947</td>\n",
       "      <td>-0.247687</td>\n",
       "      <td>0.071897</td>\n",
       "      <td>-0.462468</td>\n",
       "    </tr>\n",
       "    <tr>\n",
       "      <th>Childish_Disease</th>\n",
       "      <td>-0.191464</td>\n",
       "      <td>0.088141</td>\n",
       "      <td>1.000000</td>\n",
       "      <td>0.200562</td>\n",
       "      <td>-0.120052</td>\n",
       "      <td>0.069479</td>\n",
       "      <td>0.034721</td>\n",
       "      <td>0.105631</td>\n",
       "      <td>-0.086882</td>\n",
       "    </tr>\n",
       "    <tr>\n",
       "      <th>Accident</th>\n",
       "      <td>-0.093313</td>\n",
       "      <td>0.215397</td>\n",
       "      <td>0.200562</td>\n",
       "      <td>1.000000</td>\n",
       "      <td>0.093046</td>\n",
       "      <td>-0.079084</td>\n",
       "      <td>-0.242140</td>\n",
       "      <td>0.105985</td>\n",
       "      <td>-0.016613</td>\n",
       "    </tr>\n",
       "    <tr>\n",
       "      <th>Surgery</th>\n",
       "      <td>-0.003091</td>\n",
       "      <td>0.271585</td>\n",
       "      <td>-0.120052</td>\n",
       "      <td>0.093046</td>\n",
       "      <td>1.000000</td>\n",
       "      <td>-0.229584</td>\n",
       "      <td>-0.074332</td>\n",
       "      <td>-0.058093</td>\n",
       "      <td>-0.226632</td>\n",
       "    </tr>\n",
       "    <tr>\n",
       "      <th>High_Fever</th>\n",
       "      <td>-0.223105</td>\n",
       "      <td>0.120947</td>\n",
       "      <td>0.069479</td>\n",
       "      <td>-0.079084</td>\n",
       "      <td>-0.229584</td>\n",
       "      <td>1.000000</td>\n",
       "      <td>-0.001469</td>\n",
       "      <td>-0.006092</td>\n",
       "      <td>-0.147632</td>\n",
       "    </tr>\n",
       "    <tr>\n",
       "      <th>Alcohol_consumption</th>\n",
       "      <td>-0.041934</td>\n",
       "      <td>-0.247687</td>\n",
       "      <td>0.034721</td>\n",
       "      <td>-0.242140</td>\n",
       "      <td>-0.074332</td>\n",
       "      <td>-0.001469</td>\n",
       "      <td>1.000000</td>\n",
       "      <td>-0.184292</td>\n",
       "      <td>0.120366</td>\n",
       "    </tr>\n",
       "    <tr>\n",
       "      <th>Smoking</th>\n",
       "      <td>-0.026732</td>\n",
       "      <td>0.071897</td>\n",
       "      <td>0.105631</td>\n",
       "      <td>0.105985</td>\n",
       "      <td>-0.058093</td>\n",
       "      <td>-0.006092</td>\n",
       "      <td>-0.184292</td>\n",
       "      <td>1.000000</td>\n",
       "      <td>-0.121388</td>\n",
       "    </tr>\n",
       "    <tr>\n",
       "      <th>Sitting_Hours</th>\n",
       "      <td>-0.011239</td>\n",
       "      <td>-0.462468</td>\n",
       "      <td>-0.086882</td>\n",
       "      <td>-0.016613</td>\n",
       "      <td>-0.226632</td>\n",
       "      <td>-0.147632</td>\n",
       "      <td>0.120366</td>\n",
       "      <td>-0.121388</td>\n",
       "      <td>1.000000</td>\n",
       "    </tr>\n",
       "  </tbody>\n",
       "</table>\n",
       "</div>"
      ],
      "text/plain": [
       "                      Seasons       Age  Childish_Disease  Accident   Surgery  \\\n",
       "Seasons              1.000000  0.066010         -0.191464 -0.093313 -0.003091   \n",
       "Age                  0.066010  1.000000          0.088141  0.215397  0.271585   \n",
       "Childish_Disease    -0.191464  0.088141          1.000000  0.200562 -0.120052   \n",
       "Accident            -0.093313  0.215397          0.200562  1.000000  0.093046   \n",
       "Surgery             -0.003091  0.271585         -0.120052  0.093046  1.000000   \n",
       "High_Fever          -0.223105  0.120947          0.069479 -0.079084 -0.229584   \n",
       "Alcohol_consumption -0.041934 -0.247687          0.034721 -0.242140 -0.074332   \n",
       "Smoking             -0.026732  0.071897          0.105631  0.105985 -0.058093   \n",
       "Sitting_Hours       -0.011239 -0.462468         -0.086882 -0.016613 -0.226632   \n",
       "\n",
       "                     High_Fever  Alcohol_consumption   Smoking  Sitting_Hours  \n",
       "Seasons               -0.223105            -0.041934 -0.026732      -0.011239  \n",
       "Age                    0.120947            -0.247687  0.071897      -0.462468  \n",
       "Childish_Disease       0.069479             0.034721  0.105631      -0.086882  \n",
       "Accident              -0.079084            -0.242140  0.105985      -0.016613  \n",
       "Surgery               -0.229584            -0.074332 -0.058093      -0.226632  \n",
       "High_Fever             1.000000            -0.001469 -0.006092      -0.147632  \n",
       "Alcohol_consumption   -0.001469             1.000000 -0.184292       0.120366  \n",
       "Smoking               -0.006092            -0.184292  1.000000      -0.121388  \n",
       "Sitting_Hours         -0.147632             0.120366 -0.121388       1.000000  "
      ]
     },
     "execution_count": 7,
     "metadata": {},
     "output_type": "execute_result"
    }
   ],
   "source": [
    "data.corr()"
   ]
  },
  {
   "cell_type": "code",
   "execution_count": 8,
   "metadata": {},
   "outputs": [
    {
     "data": {
      "text/plain": [
       "<matplotlib.axes._subplots.AxesSubplot at 0x247b5b56da0>"
      ]
     },
     "execution_count": 8,
     "metadata": {},
     "output_type": "execute_result"
    },
    {
     "data": {
      "image/png": "[encoded data removed]",
      "text/plain": [
       "<Figure size 432x288 with 2 Axes>"
      ]
     },
     "metadata": {},
     "output_type": "display_data"
    }
   ],
   "source": [
    "sns.heatmap(data.corr())"
   ]
  },
  {
   "cell_type": "markdown",
   "metadata": {},
   "source": [
    "### The ligter the shade higher is the correlation. Age is Nowhere correlated to Sitting_hours but it is slightly correlated to Surgery."
   ]
  },
  {
   "cell_type": "code",
   "execution_count": 9,
   "metadata": {},
   "outputs": [
    {
     "data": {
      "text/html": [
       "<div>\n",
       "<style scoped>\n",
       "    .dataframe tbody tr th:only-of-type {\n",
       "        vertical-align: middle;\n",
       "    }\n",
       "\n",
       "    .dataframe tbody tr th {\n",
       "        vertical-align: top;\n",
       "    }\n",
       "\n",
       "    .dataframe thead th {\n",
       "        text-align: right;\n",
       "    }\n",
       "</style>\n",
       "<table border=\"1\" class=\"dataframe\">\n",
       "  <thead>\n",
       "    <tr style=\"text-align: right;\">\n",
       "      <th></th>\n",
       "      <th>Seasons</th>\n",
       "      <th>Age</th>\n",
       "      <th>Childish_Disease</th>\n",
       "      <th>Accident</th>\n",
       "      <th>Surgery</th>\n",
       "      <th>High_Fever</th>\n",
       "      <th>Alcohol_consumption</th>\n",
       "      <th>Smoking</th>\n",
       "      <th>Sitting_Hours</th>\n",
       "    </tr>\n",
       "  </thead>\n",
       "  <tbody>\n",
       "    <tr>\n",
       "      <th>count</th>\n",
       "      <td>99.000000</td>\n",
       "      <td>99.000000</td>\n",
       "      <td>99.000000</td>\n",
       "      <td>99.000000</td>\n",
       "      <td>99.000000</td>\n",
       "      <td>99.000000</td>\n",
       "      <td>99.000000</td>\n",
       "      <td>99.000000</td>\n",
       "      <td>99.000000</td>\n",
       "    </tr>\n",
       "    <tr>\n",
       "      <th>mean</th>\n",
       "      <td>-0.076364</td>\n",
       "      <td>0.668788</td>\n",
       "      <td>0.878788</td>\n",
       "      <td>0.434343</td>\n",
       "      <td>0.505051</td>\n",
       "      <td>0.191919</td>\n",
       "      <td>0.832323</td>\n",
       "      <td>-0.353535</td>\n",
       "      <td>0.402020</td>\n",
       "    </tr>\n",
       "    <tr>\n",
       "      <th>std</th>\n",
       "      <td>0.800374</td>\n",
       "      <td>0.121917</td>\n",
       "      <td>0.328035</td>\n",
       "      <td>0.498193</td>\n",
       "      <td>0.502519</td>\n",
       "      <td>0.583389</td>\n",
       "      <td>0.168322</td>\n",
       "      <td>0.812066</td>\n",
       "      <td>0.181079</td>\n",
       "    </tr>\n",
       "    <tr>\n",
       "      <th>min</th>\n",
       "      <td>-1.000000</td>\n",
       "      <td>0.500000</td>\n",
       "      <td>0.000000</td>\n",
       "      <td>0.000000</td>\n",
       "      <td>0.000000</td>\n",
       "      <td>-1.000000</td>\n",
       "      <td>0.200000</td>\n",
       "      <td>-1.000000</td>\n",
       "      <td>0.060000</td>\n",
       "    </tr>\n",
       "    <tr>\n",
       "      <th>25%</th>\n",
       "      <td>-1.000000</td>\n",
       "      <td>0.560000</td>\n",
       "      <td>1.000000</td>\n",
       "      <td>0.000000</td>\n",
       "      <td>0.000000</td>\n",
       "      <td>0.000000</td>\n",
       "      <td>0.800000</td>\n",
       "      <td>-1.000000</td>\n",
       "      <td>0.250000</td>\n",
       "    </tr>\n",
       "    <tr>\n",
       "      <th>50%</th>\n",
       "      <td>-0.330000</td>\n",
       "      <td>0.670000</td>\n",
       "      <td>1.000000</td>\n",
       "      <td>0.000000</td>\n",
       "      <td>1.000000</td>\n",
       "      <td>0.000000</td>\n",
       "      <td>0.800000</td>\n",
       "      <td>-1.000000</td>\n",
       "      <td>0.380000</td>\n",
       "    </tr>\n",
       "    <tr>\n",
       "      <th>75%</th>\n",
       "      <td>1.000000</td>\n",
       "      <td>0.750000</td>\n",
       "      <td>1.000000</td>\n",
       "      <td>1.000000</td>\n",
       "      <td>1.000000</td>\n",
       "      <td>1.000000</td>\n",
       "      <td>1.000000</td>\n",
       "      <td>0.000000</td>\n",
       "      <td>0.500000</td>\n",
       "    </tr>\n",
       "    <tr>\n",
       "      <th>max</th>\n",
       "      <td>1.000000</td>\n",
       "      <td>1.000000</td>\n",
       "      <td>1.000000</td>\n",
       "      <td>1.000000</td>\n",
       "      <td>1.000000</td>\n",
       "      <td>1.000000</td>\n",
       "      <td>1.000000</td>\n",
       "      <td>1.000000</td>\n",
       "      <td>1.000000</td>\n",
       "    </tr>\n",
       "  </tbody>\n",
       "</table>\n",
       "</div>"
      ],
      "text/plain": [
       "         Seasons        Age  Childish_Disease   Accident    Surgery  \\\n",
       "count  99.000000  99.000000         99.000000  99.000000  99.000000   \n",
       "mean   -0.076364   0.668788          0.878788   0.434343   0.505051   \n",
       "std     0.800374   0.121917          0.328035   0.498193   0.502519   \n",
       "min    -1.000000   0.500000          0.000000   0.000000   0.000000   \n",
       "25%    -1.000000   0.560000          1.000000   0.000000   0.000000   \n",
       "50%    -0.330000   0.670000          1.000000   0.000000   1.000000   \n",
       "75%     1.000000   0.750000          1.000000   1.000000   1.000000   \n",
       "max     1.000000   1.000000          1.000000   1.000000   1.000000   \n",
       "\n",
       "       High_Fever  Alcohol_consumption    Smoking  Sitting_Hours  \n",
       "count   99.000000            99.000000  99.000000      99.000000  \n",
       "mean     0.191919             0.832323  -0.353535       0.402020  \n",
       "std      0.583389             0.168322   0.812066       0.181079  \n",
       "min     -1.000000             0.200000  -1.000000       0.060000  \n",
       "25%      0.000000             0.800000  -1.000000       0.250000  \n",
       "50%      0.000000             0.800000  -1.000000       0.380000  \n",
       "75%      1.000000             1.000000   0.000000       0.500000  \n",
       "max      1.000000             1.000000   1.000000       1.000000  "
      ]
     },
     "execution_count": 9,
     "metadata": {},
     "output_type": "execute_result"
    }
   ],
   "source": [
    "data.describe()"
   ]
  },
  {
   "cell_type": "code",
   "execution_count": 10,
   "metadata": {},
   "outputs": [
    {
     "data": {
      "text/plain": [
       "Counter({0: 62, -1: 9, 1: 28})"
      ]
     },
     "execution_count": 10,
     "metadata": {},
     "output_type": "execute_result"
    }
   ],
   "source": [
    "Counter(data.High_Fever)"
   ]
  },
  {
   "cell_type": "code",
   "execution_count": 14,
   "metadata": {},
   "outputs": [
    {
     "data": {
      "text/plain": [
       "array([[<matplotlib.axes._subplots.AxesSubplot object at 0x00000247B76336A0>,\n",
       "        <matplotlib.axes._subplots.AxesSubplot object at 0x00000247B765A908>,\n",
       "        <matplotlib.axes._subplots.AxesSubplot object at 0x00000247B7682D68>],\n",
       "       [<matplotlib.axes._subplots.AxesSubplot object at 0x00000247B76B3438>,\n",
       "        <matplotlib.axes._subplots.AxesSubplot object at 0x00000247B76D7AC8>,\n",
       "        <matplotlib.axes._subplots.AxesSubplot object at 0x00000247B76D7B00>],\n",
       "       [<matplotlib.axes._subplots.AxesSubplot object at 0x00000247B7733828>,\n",
       "        <matplotlib.axes._subplots.AxesSubplot object at 0x00000247B775BEB8>,\n",
       "        <matplotlib.axes._subplots.AxesSubplot object at 0x00000247B778A588>]],\n",
       "      dtype=object)"
      ]
     },
     "execution_count": 14,
     "metadata": {},
     "output_type": "execute_result"
    },
    {
     "data": {
      "image/png": "[encoded data removed]",
      "text/plain": [
       "<Figure size 720x720 with 9 Axes>"
      ]
     },
     "metadata": {},
     "output_type": "display_data"
    }
   ],
   "source": [
    "data.hist(figsize=(10,10),layout=(3,3),bins=5)"
   ]
  },
  {
   "cell_type": "markdown",
   "metadata": {},
   "source": [
    "### Not all data are normally distributed"
   ]
  },
  {
   "cell_type": "code",
   "execution_count": 12,
   "metadata": {},
   "outputs": [],
   "source": [
    "from scipy import stats"
   ]
  },
  {
   "cell_type": "code",
   "execution_count": 16,
   "metadata": {},
   "outputs": [
    {
     "name": "stdout",
     "output_type": "stream",
     "text": [
      "\n",
      " Mode of Seasons [-0.33] have Occurred [36] Number of times\n",
      "\n",
      " Mode of Age [0.67] have Occurred [14] Number of times\n",
      "\n",
      " Mode of Childish_Disease [1] have Occurred [87] Number of times\n",
      "\n",
      " Mode of Accident [0] have Occurred [56] Number of times\n",
      "\n",
      " Mode of Surgery [1] have Occurred [50] Number of times\n",
      "\n",
      " Mode of High_Fever [0] have Occurred [62] Number of times\n",
      "\n",
      " Mode of Alcohol_consumption [1.] have Occurred [40] Number of times\n",
      "\n",
      " Mode of Smoking [-1] have Occurred [56] Number of times\n",
      "\n",
      " Mode of Sitting_Hours [0.25] have Occurred [17] Number of times\n",
      "\n",
      " Mode of Diagnosis ['N'] have Occurred [87] Number of times\n"
     ]
    },
    {
     "name": "stderr",
     "output_type": "stream",
     "text": [
      "C:\\Users\\Vaishak P J\\AppData\\Local\\Continuum\\anaconda3\\lib\\site-packages\\scipy\\stats\\stats.py:245: RuntimeWarning: The input array could not be properly checked for nan values. nan values will be ignored.\n",
      "  \"values. nan values will be ignored.\", RuntimeWarning)\n"
     ]
    }
   ],
   "source": [
    "col=data.columns\n",
    "for i in col:\n",
    "    print('\\n Mode of',i,stats.mode(data[i])[0],'have Occurred',stats.mode(data[i])[1],'Number of times')"
   ]
  },
  {
   "cell_type": "code",
   "execution_count": null,
   "metadata": {},
   "outputs": [],
   "source": []
  }
 ],
 "metadata": {
  "kernelspec": {
   "display_name": "Python 3",
   "language": "python",
   "name": "python3"
  },
  "language_info": {
   "codemirror_mode": {
    "name": "ipython",
    "version": 3
   },
   "file_extension": ".py",
   "mimetype": "text/x-python",
   "name": "python",
   "nbconvert_exporter": "python",
   "pygments_lexer": "ipython3",
   "version": "3.6.5"
  }
 },
 "nbformat": 4,
 "nbformat_minor": 2
}
